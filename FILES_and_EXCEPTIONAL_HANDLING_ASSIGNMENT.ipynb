{
  "nbformat": 4,
  "nbformat_minor": 0,
  "metadata": {
    "colab": {
      "provenance": []
    },
    "kernelspec": {
      "name": "python3",
      "display_name": "Python 3"
    },
    "language_info": {
      "name": "python"
    }
  },
  "cells": [
    {
      "cell_type": "code",
      "source": [],
      "metadata": {
        "id": "Y58qUFLmd86L"
      },
      "execution_count": null,
      "outputs": []
    },
    {
      "cell_type": "markdown",
      "source": [
        "#THEORY QUESTIONS"
      ],
      "metadata": {
        "id": "THB9Y1r5d_TB"
      }
    },
    {
      "cell_type": "markdown",
      "source": [
        "Q1. What is the difference between interpreted and compiled languages?\n",
        "\n",
        "Ans. Interpreted and compiled languages differ mainly in how they execute code. In an interpreted language, the code is executed line by line by an interpreter at runtime. This means that the program does not need to be fully converted into machine code before running. Interpreted languages, such as Python and JavaScript, are generally more flexible and allow for easier debugging since errors are caught as the code runs. However, they tend to be slower because the interpreter translates the code on the fly.\n",
        "\n",
        "On the other hand, a compiled language requires its source code to be transformed into machine code before execution. This process, done by a compiler, converts the entire program into an executable file that the computer can run directly. Languages like C, C++, and Java (which compiles to bytecode) fall into this category. Because the code is precompiled, compiled languages often run faster than interpreted ones. However, debugging can be more challenging since errors are identified only after compilation.\n",
        "\n",
        "Some languages, like Java and Python, use a hybrid approach, where code is first compiled into an intermediate form (e.g., bytecode) and then interpreted by a virtual machine (like the Java Virtual Machine or Python's interpreter). This balances performance and flexibility, allowing for portability across different systems. The choice between interpreted and compiled languages depends on factors like performance needs, development speed, and platform compatibility.\n",
        "\n",
        "\n",
        "Q2. What is exception handling in Python?\n",
        "\n",
        "Ans. Exception handling in Python is a mechanism that allows a program to handle errors gracefully without crashing. An exception occurs when an error disrupts the normal flow of execution, such as dividing by zero, accessing an undefined variable, or trying to open a non-existent file. Python provides the try-except block to catch and handle these exceptions, preventing the program from abruptly stopping. The try block contains the code that may cause an exception, while the except block defines how to handle it\n",
        "\n",
        "\n",
        "Q3. What is the purpose of the finally block in exception handling?\n",
        "\n",
        "Ans. The finally block in Python's exception handling is used to execute code that must run regardless of whether an exception occurs or not. It ensures that critical operations, such as closing files, releasing resources, or cleaning up memory, are performed even if an error is encountered. The finally block runs after the try and except blocks, making it useful for tasks that should always be completed, like disconnecting from a database or closing a network connection.\n",
        "\n",
        "\n",
        "Q4.  What is logging in Python?\n",
        "\n",
        "Ans. Logging in Python is a way to track events that happen during program execution. It helps developers debug code, monitor application performance, and record errors or warnings. Instead of using print() statements for debugging, Python’s logging module provides a more structured and configurable approach to capturing messages at different severity levels, such as DEBUG, INFO, WARNING, ERROR, and CRITICAL. This allows for better control over what messages are displayed or saved to a file.\n",
        "\n",
        "With logging, you can store messages in log files, send them to a console, or even integrate with monitoring tools. It is especially useful in large applications where tracking issues through print statements is inefficient.\n",
        "\n",
        "\n",
        "Q5.  What is the significance of the __del__ method in Python?\n",
        "\n",
        "\n",
        "Ans.  The __del__ method in Python is a destructor that is automatically called when an object is about to be destroyed. It is defined within a class and is primarily used to perform cleanup operations, such as closing files, releasing resources, or freeing memory before an object is removed from memory by Python’s garbage collector. The method is useful when working with resources that require explicit deallocation, like database connections or network sockets.\n",
        "\n",
        "\n",
        "The __del__ method in Python is a destructor that is automatically called when an object is about to be destroyed. It is defined within a class and is primarily used to perform cleanup operations, such as closing files, releasing resources, or freeing memory before an object is removed from memory by Python’s garbage collector. The method is useful when working with resources that require explicit deallocation, like database connections or network sockets.\n",
        "\n",
        "\n",
        "Q6.What is the difference between import and from ... import in Python?\n",
        "\n",
        "Ans. The difference between import and from ... import in Python is in how they bring modules and functions into your code. The import statement loads the entire module, requiring you to reference functions or variables with the module name as a prefix. For example, using import math, you would call math.sqrt(16). This approach keeps the namespace organized and avoids naming conflicts but requires slightly more typing.\n",
        "\n",
        "On the other hand, from ... import allows you to import specific functions or attributes directly, so you don’t need to use the module name. For instance, from math import sqrt lets you call sqrt(16) directly. While this can make the code cleaner, it may lead to naming conflicts if different modules have functions with the same name. For better readability and maintainability, it's recommended to use import for large modules and from ... import when only a few functions are needed.\n",
        "\n",
        "\n",
        "\n",
        "\n",
        "\n",
        "\n",
        "\n",
        "Q7.   How can you handle multiple exceptions in Python?\n",
        "\n",
        "Ans.  In Python, multiple exceptions can be handled using different approaches depending on the use case. Python allows handling multiple exceptions to ensure that the program continues running even if errors occur. This helps in catching different types of errors and providing appropriate handling mechanisms.\n",
        "\n",
        "\n",
        "One common way to handle multiple exceptions is by specifying multiple except blocks. Each block catches a specific type of exception, allowing different handling mechanisms for different errors\n",
        "\n",
        "Python allows handling multiple exceptions in a single except block using parentheses. This approach is useful when the same response is needed for different exceptions.\n",
        "\n",
        "if you are unsure about the type of exception that may occur, you can use a generic except Exception block. However, this should be used carefully, as it catches all exceptions, including unexpected ones.This is useful when you want to log or display errors without crashing the program.\n",
        "\n",
        "\n",
        "\n",
        "Q8.  What is the purpose of the with statement when handling files in Python?\n",
        "\n",
        "Ans. The with statement in Python is used for handling files to ensure proper resource management. When working with files, it automatically opens and closes the file, even if an exception occurs. This eliminates the need to explicitly call close(), reducing the risk of resource leaks and improving code readability. By using the with statement, file operations become more efficient and error-free, as Python takes care of cleanup tasks.\n",
        "\n",
        "Another key advantage of the with statement is that it makes the code more concise and less prone to errors. Without it, if an exception occurs before manually closing a file, the program may leave the file open, causing potential issues like memory leaks or file corruption. The with statement ensures that once the block is exited, whether successfully or due to an error, the file is properly closed, making it the preferred approach for file handling in Python.\n",
        "\n",
        "\n",
        "Q9.  F What is the difference between multithreading and multiprocessing?\n",
        "\n",
        "\n",
        "Ans. Multithreading and multiprocessing are both techniques used to achieve parallel execution in Python, but they differ in how they utilize system resources. Multithreading involves multiple threads running within the same process, sharing the same memory space. This is useful for I/O-bound tasks like reading files, making network requests, or database queries, as it allows the program to continue execution while waiting for external resources. However, due to Python’s Global Interpreter Lock (GIL), true parallel execution is limited because only one thread can execute Python bytecode at a time.\n",
        "\n",
        "Multiprocessing, on the other hand, involves running multiple processes, each with its own memory space and Python interpreter. This is ideal for CPU-bound tasks like data processing, machine learning computations, or numerical calculations, as it allows multiple CPU cores to execute tasks in parallel. Since each process runs independently, multiprocessing overcomes the limitations of the GIL, making it more efficient for tasks that require significant computational power. However, it requires more memory and inter-process communication, which can introduce additional overhead.\n",
        "\n",
        "\n",
        "\n",
        "\n",
        "\n",
        "\n",
        "\n",
        "Q10.  What are the advantages of using logging in a program?\n",
        "\n",
        "\n",
        "Ans.  Using logging in a program offers several advantages, making it a crucial component of software development, debugging, and maintenance. Instead of relying solely on print statements, logging provides a structured and efficient way to capture, store, and analyze program execution details. Below are six key advantages of using logging in a program:\n",
        "\n",
        "1. Debugging and Issue Resolution\n",
        "Logging helps developers identify and resolve issues efficiently by providing detailed insights into program execution. When a program crashes or behaves unexpectedly, logs can reveal the sequence of events leading to the issue, making it easier to diagnose and fix bugs. Unlike print statements, which need to be manually removed or commented out after debugging, logging allows for controlled verbosity through logging levels.\n",
        "\n",
        "2. Structured and Configurable Output\n",
        "Logging frameworks offer structured output, enabling developers to log messages at different levels such as DEBUG, INFO, WARNING, ERROR, and CRITICAL. This allows for better organization of log messages and helps in filtering relevant information. Additionally, logging can be configured to format messages with timestamps, file names, and line numbers, improving the clarity and traceability of logs.\n",
        "\n",
        "3. Persistent Record Keeping\n",
        "Unlike print statements that display output on the console and are lost once the program terminates, logging can store messages in files, databases, or external monitoring systems. This persistent record-keeping is valuable for long-term monitoring, auditing, and post-mortem analysis of software issues, especially in production environments where immediate debugging is not always possible.\n",
        "\n",
        "4. Performance Optimization\n",
        "Logging frameworks are designed to be more efficient than using print statements, as they allow asynchronous logging, log rotation, and selective logging levels. This reduces the performance impact on the application by ensuring that only relevant log messages are processed and stored. Additionally, excessive print statements can slow down the execution, whereas logging systems can optimize and manage log entries effectively.\n",
        "\n",
        "5. Remote Monitoring and Alerting\n",
        "Many modern logging systems integrate with monitoring tools, allowing real-time tracking of application performance and automatic alerts for critical failures. This is particularly useful in large-scale applications and cloud-based systems, where remote monitoring is essential for ensuring uptime and reliability. Logs can trigger alerts for security breaches, unexpected failures, or resource usage anomalies, enabling proactive issue resolution.\n",
        "\n",
        "6. Facilitates Collaboration and Compliance\n",
        "Logging helps teams collaborate effectively by providing a shared history of program execution and issues encountered. Team members can review logs to understand past problems and solutions. Additionally, in industries with regulatory compliance requirements (such as finance and healthcare), maintaining detailed logs is necessary for audits and security investigations. Proper logging ensures accountability and transparency in software operations.\n",
        "\n",
        "By incorporating logging into a program, developers gain a powerful tool for debugging, monitoring, and maintaining software, leading to improved reliability and performance.\n",
        "\n",
        "\n",
        "\n",
        "Q11.  what is memory management in Python?\n",
        "\n",
        "Ans.  Memory management in Python refers to the process of efficiently allocating, using, and deallocating memory during program execution. Python uses an automatic memory management system that includes a private heap, where all Python objects and data structures are stored. The Python memory manager handles memory allocation for objects, while the built-in garbage collector automatically frees up memory by removing objects that are no longer in use. This prevents memory leaks and ensures optimal memory usage without requiring manual intervention from the programmer.\n",
        "\n",
        "Python’s memory management also includes reference counting and cyclic garbage collection. Every object in Python has a reference count, which tracks how many variables or data structures reference it. When an object’s reference count drops to zero, it is automatically deallocated. However, if objects create circular references (where two or more objects refer to each other), the garbage collector detects and removes them using a technique called cyclic garbage collection. Additionally, Python allows developers to fine-tune memory management using tools like the gc module, which provides functions to control garbage collection manually.\n",
        "\n",
        "\n",
        "Q12.  What are the basic steps involved in exception handling in Python?\n",
        "\n",
        "\n",
        "Ans.  Exception handling in Python is a mechanism that allows a program to gracefully handle runtime errors instead of crashing unexpectedly. It involves using the try-except block to catch and manage exceptions that may arise during program execution. The basic steps in exception handling start with identifying the code that might raise an exception and enclosing it within a try block. If an error occurs, the except block catches the specific exception type and executes alternative code to handle the error appropriately.\n",
        "\n",
        "Additionally, Python allows the use of multiple except blocks to handle different types of exceptions separately. This ensures that the program responds correctly to various error conditions, such as ZeroDivisionError, FileNotFoundError, or ValueError. The else block can be used to execute code only if no exceptions occur, and the finally block ensures that certain cleanup actions (like closing a file or releasing a resource) always run, regardless of whether an exception was raised.\n",
        "\n",
        "Proper exception handling improves code reliability and maintainability by preventing abrupt program termination and providing meaningful error messages. Developers can also raise custom exceptions using the raise keyword to enforce specific conditions in their programs. By following best practices like catching only expected exceptions and avoiding overly broad exception handling (except Exception as e), Python programs remain efficient and easier to debug.\n",
        "\n",
        "\n",
        "\n",
        "Q13.  Why is memory management important in Python?\n",
        "\n",
        "\n",
        "Ans.  Memory management is crucial in Python because it directly impacts the performance, efficiency, and stability of applications by ensuring that memory is allocated and deallocated effectively. Python uses automatic memory management, which means developers do not have to manually allocate or free memory, reducing the risk of memory leaks and segmentation faults. The Python memory manager handles memory allocation using a private heap, while the garbage collector automatically removes unused objects to free up space. Efficient memory management helps prevent excessive memory consumption, which is especially important in large-scale applications, data-intensive tasks, and long-running programs. Poor memory management can lead to performance degradation, application crashes, or excessive use of system resources, making it essential to optimize memory usage. Python’s built-in mechanisms like reference counting and cyclic garbage collection ensure that objects are efficiently tracked and removed when they are no longer needed. Developers can also fine-tune memory usage by using the gc module to control garbage collection, handling large objects with care, and following best practices such as using generators, avoiding unnecessary object references, and leveraging memory-efficient data structures like deque or array. In summary, effective memory management in Python ensures smoother execution, prevents resource wastage, and enhances overall program reliability.\n",
        "\n",
        "\n",
        "\n",
        "Q14.  What is the role of try and except in exception handling?\n",
        "\n",
        "\n",
        "Ans.  The try and except blocks play a fundamental role in exception handling in Python by allowing developers to catch and manage runtime errors gracefully, preventing abrupt program termination. The try block contains the code that might raise an exception, ensuring that the program does not crash if an error occurs. When Python encounters an exception within the try block, it immediately stops executing the remaining code inside it and looks for a corresponding except block to handle the error. This mechanism ensures that the program continues running smoothly, even in the presence of unexpected issues such as division by zero, file not found errors, or invalid user input. By using try and except, developers can provide custom error messages, log the issue for debugging, or implement alternative logic to recover from errors without disrupting the user experience.\n",
        "\n",
        "The except block defines how specific exceptions should be handled, making it a powerful tool for error management. Multiple except blocks can be used to handle different exception types separately, allowing for more precise error handling. For instance, a ZeroDivisionError might trigger a message prompting the user to enter a valid denominator, while a FileNotFoundError could prompt the user to check the file path. Developers can also use a generic except Exception as e block to catch any unexpected errors, though it is generally recommended to catch only specific exceptions to avoid masking bugs. Additionally, the else block can be used to execute code only if no exceptions occur, and the finally block ensures that cleanup operations, such as closing files or releasing resources, always run regardless of whether an exception was raised. This structured approach to exception handling improves code robustness, maintainability, and debugging efficiency, making Python applications more reliable in handling unforeseen errors.\n",
        "\n",
        "\n",
        "\n",
        "\n",
        "\n",
        "\n",
        "\n",
        "Q15.  How does Python's garbage collection system work?\n",
        "\n",
        "\n",
        "Ans.  Python’s garbage collection system is an automatic memory management feature designed to free up unused memory by removing objects that are no longer needed. It primarily relies on reference counting, which keeps track of the number of references to an object in memory. Each time an object is assigned to a variable or included in another data structure, its reference count increases. Conversely, when a reference to the object is deleted or reassigned, the reference count decreases. Once the reference count of an object drops to zero, meaning no part of the program is using it anymore, Python’s memory manager immediately deallocates the object, freeing up memory. This system ensures that memory is efficiently used and prevents memory leaks caused by objects lingering in memory without being accessed. However, reference counting alone cannot handle cyclic references, where two or more objects refer to each other, keeping their reference counts artificially high even when they are no longer in use.\n",
        "\n",
        "To handle cyclic references, Python employs a cyclic garbage collector, which is part of the built-in gc module. This collector periodically scans objects in memory to detect reference cycles—cases where groups of objects refer to each other but are otherwise unreachable by the program. It categorizes objects into three \"generations\" based on their lifespan: newly created objects belong to Generation 0, and if they survive multiple garbage collection cycles, they are promoted to Generation 1 and then to Generation 2. The garbage collector primarily runs on Generation 0, as short-lived objects are more likely to become unreachable quickly, while less frequent collections occur for older generations to optimize performance. When a cycle is detected, the garbage collector breaks it by deallocating the involved objects, effectively freeing up memory that would have otherwise been leaked. This system ensures that even complex data structures do not cause indefinite memory retention.\n",
        "\n",
        "Python also provides manual control over garbage collection through the gc module, allowing developers to fine-tune when and how collection occurs. The gc.collect() function can be used to force a garbage collection cycle, which can be useful in memory-intensive applications to free up memory proactively. Developers can also disable automatic garbage collection using gc.disable() if they prefer to manage memory manually in performance-critical situations. Additionally, gc.get_stats() can provide insights into garbage collection activity, helping identify potential inefficiencies. While Python’s garbage collection system generally works well without developer intervention, understanding how it functions allows programmers to write more memory-efficient code, avoid unnecessary memory consumption, and prevent performance bottlenecks caused by excessive memory usage.\n",
        "\n",
        "\n",
        "\n",
        "Q16.  What is the purpose of the else block in exception handling?\n",
        "\n",
        "\n",
        "\n",
        "Ans.  The else block in Python’s exception handling serves a specific purpose: it allows developers to execute code that should only run if no exceptions occur within the try block. Unlike the except block, which handles errors, and the finally block, which executes regardless of exceptions, the else block ensures that certain code executes only when the try block completes successfully. This helps in writing cleaner, more structured code by separating normal execution logic from error-handling logic. Without the else block, developers might need to place success-case code inside the try block, which is not ideal since it should contain only code that might raise exceptions. By keeping normal execution code in the else block, the try block remains focused on error-prone operations, making the program easier to read and maintain.\n",
        "\n",
        "For example, consider a scenario where a program reads data from a file and processes it. If opening the file or reading its contents fails, an exception like FileNotFoundError or IOError is raised and handled in the except block. However, if the file is read successfully, the else block can contain the logic for processing the data without being interrupted by the exception handling. This ensures that processing happens only when no errors occur, preventing unnecessary operations on incomplete or missing data. Using an else block also reduces the chances of accidentally catching and suppressing exceptions that should be handled differently. If all the processing were inside the try block, an unexpected error during processing might be mistakenly caught by the except block meant for file errors, leading to incorrect program behavior.\n",
        "\n",
        "Additionally, the else block improves performance by keeping the try block as short as possible. Since the try block introduces some overhead in Python, having only necessary error-prone code inside it and moving the safe execution logic to else ensures efficiency. This separation also makes debugging easier, as developers can immediately distinguish between operations that may fail and those that should execute normally. In complex applications, this structured approach helps avoid unnecessary nesting and improves code clarity. By leveraging the else block effectively, developers can write more predictable, maintainable, and logically structured error-handling mechanisms, ensuring that code behaves as expected under both normal and exceptional circumstances.\n",
        "\n",
        "\n",
        "\n",
        "Q17.   What are the common logging levels in Python?\n",
        "\n",
        "\n",
        "Ans.  In Python, the logging module provides several logging levels that help categorize log messages based on their severity. These levels allow developers to control what type of messages are recorded and displayed, making it easier to debug, monitor, and maintain applications. The most common logging levels in Python are DEBUG, INFO, WARNING, ERROR, and CRITICAL, each serving a distinct purpose. The DEBUG level is the lowest and is used for detailed diagnostic messages, such as variable values, function calls, and execution flow, which are helpful during development and debugging. The INFO level is slightly less verbose and is used to log general events that confirm the program is running as expected, such as successfully starting a service or processing a request. These two levels are primarily used for monitoring and troubleshooting application behavior without indicating any errors.\n",
        "\n",
        "The WARNING level is used to log potential issues that do not stop program execution but may require attention, such as deprecated function usage or approaching resource limits. These warnings alert developers or system administrators to conditions that might cause problems in the future. The ERROR level, on the other hand, is used when an actual failure occurs that prevents part of the program from functioning correctly, such as a failed database connection or an unhandled exception. Unlike warnings, errors indicate that something is broken and needs immediate attention. Proper logging at this level helps pinpoint critical failures and speeds up troubleshooting by providing error messages and stack traces.\n",
        "\n",
        "Finally, the CRITICAL level is the most severe and is used for catastrophic failures that could cause the entire program to crash or become unusable, such as system outages, hardware failures, or corrupted databases. Messages logged at this level typically require immediate action, often triggering alerts or emergency responses in production environments. Python’s logging framework allows developers to filter logs based on these levels, ensuring that only relevant messages are recorded based on the application's needs. By strategically using logging levels, developers can balance performance and observability, ensuring that essential information is captured without overwhelming log files with unnecessary details.\n",
        "\n",
        "\n",
        "\n",
        "\n",
        "\n",
        "\n",
        "\n",
        "\n",
        "\n",
        "Q18.  What is the difference between os.fork() and multiprocessing in Python?\n",
        "\n",
        "\n",
        "\n",
        "Ans.  The primary difference between os.fork() and the multiprocessing module in Python lies in how they create new processes and their compatibility across different operating systems. os.fork() is a low-level system call available only on Unix-based systems (Linux, macOS), which creates a child process by duplicating the parent process. The child process inherits the parent's memory space, file descriptors, and execution state, making it an efficient but somewhat risky approach to process creation. Since both processes share the same memory space initially, developers need to handle inter-process communication (IPC) carefully to avoid conflicts. However, os.fork() does not work on Windows, making it unsuitable for cross-platform applications.\n",
        "\n",
        "In contrast, the multiprocessing module provides a high-level, platform-independent API for creating and managing separate processes in Python. Unlike os.fork(), which duplicates the memory space, multiprocessing creates completely independent processes that do not share memory, reducing the risk of unintended data corruption. It also includes built-in mechanisms for inter-process communication, synchronization, and process pooling, making it more robust for parallel execution. Additionally, multiprocessing is supported on both Windows and Unix systems, making it the preferred choice for writing cross-platform, concurrent programs. While os.fork() is faster in some cases due to its direct system call nature, multiprocessing is generally safer and more manageable, especially for large-scale applications requiring parallel execution and resource isolation.\n",
        "\n",
        "\n",
        "Q19.  What is the importance of closing a file in Python?\n",
        "\n",
        "\n",
        "Ans.  Closing a file in Python is crucial because it ensures that all changes made to the file are saved and prevents data corruption. When a file is open, Python holds system resources to manage read and write operations. If a file isn't properly closed, some data may remain in the buffer and not be written to the file, leading to incomplete or lost information. This is especially important when working with large files or writing critical data.\n",
        "\n",
        "Additionally, keeping files open unnecessarily can lead to memory leaks and limit the number of files a program can handle simultaneously. In some cases, failing to close a file can lock it, preventing other programs or processes from accessing it. Using the with open() statement in Python is a best practice, as it automatically closes the file once operations are complete, reducing the risk of errors and improving code efficiency.\n",
        "\n",
        "\n",
        "Q20.   What is the difference between file.read() and file.readline() in Python?\n",
        "\n",
        "\n",
        "Ans.  The file.read() method in Python reads the entire contents of a file as a single string. It is useful when you need to process the full file at once, such as analyzing text or storing data in a variable. However, using file.read() on large files can consume a lot of memory, as it loads everything into RAM. You can also specify a number of bytes to read, like file.read(100), which reads only the first 100 characters.\n",
        "\n",
        "On the other hand, file.readline() reads only a single line from the file at a time. This is useful when processing large files line by line without loading everything into memory. Each call to file.readline() moves the file cursor to the next line, allowing iteration through the file. If the file is too large to fit in memory, using file.readline() or looping through the file with for line in file: is a more efficient approach than file.read().\n",
        "\n",
        "\n",
        "\n",
        "Q21.  What is the logging module in Python used for?\n",
        "\n",
        "\n",
        "Ans.  The logging module in Python is used for tracking events during a program’s execution, making debugging, monitoring, and auditing easier. It provides different logging levels such as DEBUG, INFO, WARNING, ERROR, and CRITICAL, allowing developers to categorize messages based on their severity. Logs can be displayed on the console, saved to a file, or sent to external services. The module also supports filtering messages and formatting logs with timestamps, module names, and custom text. By using logging, developers can gain better visibility into their programs without relying on print statements.\n",
        "\n",
        "\n",
        "\n",
        "Q22.  What is the os module in Python used for in file handling?\n",
        "\n",
        "\n",
        "Ans.  The os module in Python is used for interacting with the operating system, particularly for file handling operations such as creating, deleting, renaming, and navigating directories. It allows users to check file existence, retrieve file properties, and modify file permissions. Functions like os.mkdir() and os.makedirs() create directories, while os.remove() and os.rmdir() delete files and directories. The module also provides os.path for handling file paths, checking if a file or directory exists, and joining paths in a platform-independent way. Overall, the os module simplifies file management by providing a direct interface to the operating system.\n",
        "\n",
        "\n",
        "\n",
        "Q23.  What are the challenges associated with memory management in Python?\n",
        "\n",
        "\n",
        "\n",
        "Ans.  Garbage Collection Overhead – Python uses automatic garbage collection, which can introduce overhead and affect performance, especially in large applications.\n",
        "\n",
        "Reference Cycles – Objects referencing each other (circular references) may not be immediately freed, requiring manual intervention or gc.collect().\n",
        "\n",
        "Memory Leaks – Improper handling of objects, such as retaining unnecessary references in global variables or data structures, can cause memory leaks.\n",
        "\n",
        "High Memory Consumption – Python’s dynamic typing and object overhead (e.g., reference counting) make it more memory-intensive compared to lower-level languages like C.\n",
        "\n",
        "Fragmentation – Frequent allocation and deallocation of memory can lead to fragmentation, reducing memory efficiency over time.\n",
        "\n",
        "Mutable vs Immutable Objects – Understanding how Python handles mutable (lists, dicts) and immutable (strings, tuples) objects is crucial to avoid unnecessary memory duplication.\n",
        "\n",
        "Hidden Object Copies – Some operations, such as slicing a list or modifying large objects, create hidden copies that increase memory usage unexpectedly.\n",
        "\n",
        "Lack of Explicit Memory Control – Unlike languages like C or C++, Python abstracts memory management, limiting direct control over allocation and deallocation.\n",
        "\n",
        "Global Interpreter Lock (GIL) Impact – The GIL affects multi-threaded memory management, leading to inefficiencies in memory usage for CPU-bound tasks.\n",
        "\n",
        "Third-Party Libraries – Some external libraries may not handle memory efficiently, leading to excessive memory consumption or leaks if not managed properly.\n",
        "\n",
        "\n",
        "\n",
        "Q24.  How do you raise an exception manually in Python?\n",
        "\n",
        "\n",
        "Ans.  In Python, you can manually raise an exception using the raise keyword, followed by the exception type. This is useful when you want to enforce certain conditions in your code. For example, raise ValueError(\"Invalid input\") explicitly raises a ValueError with a custom message, which can help in debugging and error handling.\n",
        "\n",
        "You can also raise custom exceptions by defining a class that inherits from the built-in Exception class. For instance, creating class CustomError(Exception): pass allows you to raise CustomError(\"Something went wrong\"). This approach is beneficial for defining application-specific errors and making error messages more meaningful.\n",
        "\n",
        "\n",
        "\n",
        "Q25.  Why is it important to use multithreading in certain applications?\n",
        "\n",
        "\n",
        "Ans.   Multithreading is important in certain applications because it allows for concurrent execution of tasks, improving efficiency and responsiveness. By running multiple threads within the same process, an application can handle multiple operations simultaneously without waiting for one task to finish before starting another. This is particularly useful for applications that require handling multiple user inputs, real-time data processing, or background tasks.\n",
        "\n",
        "One key advantage of multithreading is improved performance in I/O-bound applications. When an application frequently interacts with files, databases, or networks, it often spends time waiting for responses. Multithreading allows other tasks to execute during these waiting periods, preventing unnecessary idle time and making better use of system resources. For example, web browsers use multiple threads to load different web page elements like images and scripts simultaneously, enhancing user experience.\n",
        "\n",
        "Multithreading also plays a crucial role in maintaining application responsiveness. In graphical user interface (GUI) applications, a single-threaded program may become unresponsive when performing time-consuming tasks. By using a separate thread for such operations, the main thread remains free to handle user interactions, preventing the application from freezing. This is commonly seen in media players, where playback continues smoothly while the user interacts with menus or changes settings.\n",
        "\n",
        "Despite its benefits, multithreading is not always advantageous for CPU-bound tasks due to Python's Global Interpreter Lock (GIL). The GIL restricts execution to one thread at a time in Python, making multiprocessing a better option for tasks that require heavy computations. However, for tasks involving networking, web scraping, or handling multiple client requests in servers, multithreading is an efficient choice.\n",
        "\n",
        "Overall, multithreading is essential for applications that require parallel execution of tasks, efficient I/O operations, and improved responsiveness. By properly managing threads, developers can optimize performance and enhance user experience in applications ranging from web servers and games to data processing and real-time monitoring systems.\n"
      ],
      "metadata": {
        "id": "WGwvxyHbfQoG"
      }
    },
    {
      "cell_type": "markdown",
      "source": [
        "#PRACTICAL QUESTIONS"
      ],
      "metadata": {
        "id": "AibL_FbY08Mb"
      }
    },
    {
      "cell_type": "code",
      "source": [
        "#Q1.   How can you open a file for writing in Python and write a string to iT ?\n",
        "\n",
        "# Open the file in write mode\n",
        "with open(\"example.txt\", \"w\") as file:\n",
        "    file.write(\"Hello, this is a test string!\")\n",
        "\n",
        "# The file is automatically closed after the with-block\n"
      ],
      "metadata": {
        "id": "htK65vId1AOE"
      },
      "execution_count": null,
      "outputs": []
    },
    {
      "cell_type": "code",
      "source": [
        "#Q2.  Write a Python program to read the contents of a file and print each line?\n",
        "\n",
        "# Open the file in read mode\n",
        "with open(\"example.txt\", \"r\") as file:\n",
        "    # Read and print each line\n",
        "    for line in file:\n",
        "        print(line.strip())  # strip() removes extra newline characters\n"
      ],
      "metadata": {
        "colab": {
          "base_uri": "https://localhost:8080/"
        },
        "id": "fkZEh_jt1UWe",
        "outputId": "f87721ee-f123-417d-9437-35052ced7dcd"
      },
      "execution_count": null,
      "outputs": [
        {
          "output_type": "stream",
          "name": "stdout",
          "text": [
            "Hello, this is a test string!\n"
          ]
        }
      ]
    },
    {
      "cell_type": "code",
      "source": [
        "#Q3.  How would you handle a case where the file doesn't exist while trying to open it for reading?\n",
        "\n",
        "\n",
        "try:\n",
        "    with open(\"example.txt\", \"r\") as file:\n",
        "        for line in file:\n",
        "            print(line.strip())\n",
        "except FileNotFoundError:\n",
        "    print(\"Error: The file does not exist. Please check the filename and try again.\")\n"
      ],
      "metadata": {
        "colab": {
          "base_uri": "https://localhost:8080/"
        },
        "id": "-g0dMcnL1hk0",
        "outputId": "bcfc0fd0-82cd-4b7a-a6b6-8dbd7cd1cfe5"
      },
      "execution_count": null,
      "outputs": [
        {
          "output_type": "stream",
          "name": "stdout",
          "text": [
            "Hello, this is a test string!\n"
          ]
        }
      ]
    },
    {
      "cell_type": "code",
      "source": [
        "#Q4.  Write a Python script that reads from one file and writes its content to another file?\n",
        "\n",
        "# Open the source file for reading and the destination file for writing\n",
        "try:\n",
        "    with open(\"source.txt\", \"r\") as source_file, open(\"destination.txt\", \"w\") as destination_file:\n",
        "        for line in source_file:\n",
        "            destination_file.write(line)\n",
        "    print(\"File copied successfully!\")\n",
        "except FileNotFoundError:\n",
        "    print(\"Error: The source file does not exist.\")\n",
        "except Exception as e:\n",
        "    print(f\"An error occurred: {e}\")\n"
      ],
      "metadata": {
        "colab": {
          "base_uri": "https://localhost:8080/"
        },
        "id": "ELRKn_n91rMq",
        "outputId": "5950b62c-65f8-486b-c7da-cfa2e444f122"
      },
      "execution_count": null,
      "outputs": [
        {
          "output_type": "stream",
          "name": "stdout",
          "text": [
            "Error: The source file does not exist.\n"
          ]
        }
      ]
    },
    {
      "cell_type": "code",
      "source": [
        "#Q5.  How would you catch and handle division by zero error in Python?\n",
        "\n",
        "try:\n",
        "    num1 = int(input(\"Enter numerator: \"))\n",
        "    num2 = int(input(\"Enter denominator: \"))\n",
        "    result = num1 / num2\n",
        "    print(\"Result:\", result)\n",
        "except ZeroDivisionError:\n",
        "    print(\"Error: Division by zero is not allowed.\")\n",
        "except ValueError:\n",
        "    print(\"Error: Please enter valid numbers.\")\n"
      ],
      "metadata": {
        "colab": {
          "base_uri": "https://localhost:8080/"
        },
        "id": "HNf-Jwmv1KLU",
        "outputId": "86585413-98aa-4f6b-afe5-4e32cc73ce46"
      },
      "execution_count": null,
      "outputs": [
        {
          "output_type": "stream",
          "name": "stdout",
          "text": [
            "Enter numerator: 98\n",
            "Enter denominator: 555\n",
            "Result: 0.17657657657657658\n"
          ]
        }
      ]
    },
    {
      "cell_type": "code",
      "source": [
        "#Q6.  Write a Python program that logs an error message to a log file when a division by zero exception occurS?\n",
        "\n",
        "\n",
        "import logging\n",
        "\n",
        "# Configure logging to write errors to a log file\n",
        "logging.basicConfig(filename=\"error.log\", level=logging.ERROR,\n",
        "                    format=\"%(asctime)s - %(levelname)s - %(message)s\")\n",
        "\n",
        "try:\n",
        "    num1 = int(input(\"Enter numerator: \"))\n",
        "    num2 = int(input(\"Enter denominator: \"))\n",
        "    result = num1 / num2\n",
        "    print(\"Result:\", result)\n",
        "except ZeroDivisionError:\n",
        "    logging.error(\"Division by zero error occurred.\")\n",
        "    print(\"Error: Division by zero is not allowed. Check 'error.log' for details.\")\n",
        "except ValueError:\n",
        "    logging.error(\"Invalid input error occurred.\")\n",
        "    print(\"Error: Please enter valid numbers.\")\n"
      ],
      "metadata": {
        "colab": {
          "base_uri": "https://localhost:8080/"
        },
        "id": "KxJI6Hb-1WkG",
        "outputId": "f01f6730-b594-482f-9588-6049af4af95f"
      },
      "execution_count": null,
      "outputs": [
        {
          "output_type": "stream",
          "name": "stdout",
          "text": [
            "Enter numerator: 89\n",
            "Enter denominator: 56\n",
            "Result: 1.5892857142857142\n"
          ]
        }
      ]
    },
    {
      "cell_type": "code",
      "source": [
        "#Q7.  How do you log information at different levels (INFO, ERROR, WARNING) in Python using the logging module?\n",
        "\n",
        "import logging\n",
        "\n",
        "# Configure logging\n",
        "logging.basicConfig(filename=\"app.log\", level=logging.DEBUG,\n",
        "                    format=\"%(asctime)s - %(levelname)s - %(message)s\")\n",
        "\n",
        "# Logging messages at different levels\n",
        "logging.debug(\"This is a DEBUG message (useful for debugging).\")\n",
        "logging.info(\"This is an INFO message (general information).\")\n",
        "logging.warning(\"This is a WARNING message (something might be wrong).\")\n",
        "logging.error(\"This is an ERROR message (something went wrong).\")\n",
        "logging.critical(\"This is a CRITICAL message (serious issue, possible crash).\")\n",
        "\n",
        "print(\"Logs have been recorded in 'app.log'.\")\n"
      ],
      "metadata": {
        "colab": {
          "base_uri": "https://localhost:8080/"
        },
        "id": "tBgOaKwS1mFS",
        "outputId": "de034e6c-e3ee-46bd-a2b9-b861bccfd19b"
      },
      "execution_count": null,
      "outputs": [
        {
          "output_type": "stream",
          "name": "stderr",
          "text": [
            "WARNING:root:This is a WARNING message (something might be wrong).\n",
            "ERROR:root:This is an ERROR message (something went wrong).\n",
            "CRITICAL:root:This is a CRITICAL message (serious issue, possible crash).\n"
          ]
        },
        {
          "output_type": "stream",
          "name": "stdout",
          "text": [
            "Logs have been recorded in 'app.log'.\n"
          ]
        }
      ]
    },
    {
      "cell_type": "code",
      "source": [
        "#Q8.  Write a program to handle a file opening error using exception handling?\n",
        "\n",
        "try:\n",
        "    # Attempt to open a non-existent file\n",
        "    with open(\"non_existent_file.txt\", \"r\") as file:\n",
        "        content = file.read()\n",
        "        print(content)\n",
        "except FileNotFoundError:\n",
        "    print(\"Error: The file was not found. Please check the filename and try again.\")\n",
        "except PermissionError:\n",
        "    print(\"Error: You do not have permission to access this file.\")\n",
        "except Exception as e:\n",
        "    print(f\"An unexpected error occurred: {e}\")\n"
      ],
      "metadata": {
        "colab": {
          "base_uri": "https://localhost:8080/"
        },
        "id": "hUQjjEya1xDl",
        "outputId": "369d265b-d5dc-42a5-9b73-f53eaeaa4d02"
      },
      "execution_count": null,
      "outputs": [
        {
          "output_type": "stream",
          "name": "stdout",
          "text": [
            "Error: The file was not found. Please check the filename and try again.\n"
          ]
        }
      ]
    },
    {
      "cell_type": "code",
      "source": [
        "#Q9.  How can you read a file line by line and store its content in a list in Python?\n",
        "\n",
        "\n",
        "lines = []\n",
        "with open(\"example.txt\", \"r\") as file:\n",
        "    for line in file:\n",
        "        lines.append(line.strip())  # strip() removes newline characters\n",
        "print(lines)\n"
      ],
      "metadata": {
        "colab": {
          "base_uri": "https://localhost:8080/",
          "height": 211
        },
        "id": "6wP2KAm417us",
        "outputId": "5d058045-4c2c-42c8-8e86-6ce8bb2d00de"
      },
      "execution_count": null,
      "outputs": [
        {
          "output_type": "error",
          "ename": "FileNotFoundError",
          "evalue": "[Errno 2] No such file or directory: 'example.txt'",
          "traceback": [
            "\u001b[0;31m---------------------------------------------------------------------------\u001b[0m",
            "\u001b[0;31mFileNotFoundError\u001b[0m                         Traceback (most recent call last)",
            "\u001b[0;32m<ipython-input-6-f9201a9d51ad>\u001b[0m in \u001b[0;36m<cell line: 0>\u001b[0;34m()\u001b[0m\n\u001b[1;32m      3\u001b[0m \u001b[0;34m\u001b[0m\u001b[0m\n\u001b[1;32m      4\u001b[0m \u001b[0mlines\u001b[0m \u001b[0;34m=\u001b[0m \u001b[0;34m[\u001b[0m\u001b[0;34m]\u001b[0m\u001b[0;34m\u001b[0m\u001b[0;34m\u001b[0m\u001b[0m\n\u001b[0;32m----> 5\u001b[0;31m \u001b[0;32mwith\u001b[0m \u001b[0mopen\u001b[0m\u001b[0;34m(\u001b[0m\u001b[0;34m\"example.txt\"\u001b[0m\u001b[0;34m,\u001b[0m \u001b[0;34m\"r\"\u001b[0m\u001b[0;34m)\u001b[0m \u001b[0;32mas\u001b[0m \u001b[0mfile\u001b[0m\u001b[0;34m:\u001b[0m\u001b[0;34m\u001b[0m\u001b[0;34m\u001b[0m\u001b[0m\n\u001b[0m\u001b[1;32m      6\u001b[0m     \u001b[0;32mfor\u001b[0m \u001b[0mline\u001b[0m \u001b[0;32min\u001b[0m \u001b[0mfile\u001b[0m\u001b[0;34m:\u001b[0m\u001b[0;34m\u001b[0m\u001b[0;34m\u001b[0m\u001b[0m\n\u001b[1;32m      7\u001b[0m         \u001b[0mlines\u001b[0m\u001b[0;34m.\u001b[0m\u001b[0mappend\u001b[0m\u001b[0;34m(\u001b[0m\u001b[0mline\u001b[0m\u001b[0;34m.\u001b[0m\u001b[0mstrip\u001b[0m\u001b[0;34m(\u001b[0m\u001b[0;34m)\u001b[0m\u001b[0;34m)\u001b[0m  \u001b[0;31m# strip() removes newline characters\u001b[0m\u001b[0;34m\u001b[0m\u001b[0;34m\u001b[0m\u001b[0m\n",
            "\u001b[0;31mFileNotFoundError\u001b[0m: [Errno 2] No such file or directory: 'example.txt'"
          ]
        }
      ]
    },
    {
      "cell_type": "code",
      "source": [
        "#Q10.  How can you append data to an existing file in Python?\n",
        "\n",
        "with open(\"example.txt\", \"a\") as file:\n",
        "    file.write(\"This is new data appended to the file.\\n\")\n"
      ],
      "metadata": {
        "id": "TXzgozu32GUR"
      },
      "execution_count": null,
      "outputs": []
    },
    {
      "cell_type": "code",
      "source": [
        "#Q11.  F Write a Python program that uses a try-except block to handle an error when attempting to access a\n",
        "#dictionary key that doesn't exist?\n",
        "\n",
        "\n",
        "\n",
        "# Define a dictionary\n",
        "data = {\"name\": \"Alice\", \"age\": 25, \"city\": \"New York\"}\n",
        "\n",
        "# Attempt to access a key that might not exist\n",
        "key = \"country\"  # This key does not exist in the dictionary\n",
        "\n",
        "try:\n",
        "    value = data[key]  # Trying to access a non-existent key\n",
        "    print(f\"Value: {value}\")\n",
        "except KeyError:\n",
        "    print(f\"Error: The key '{key}' does not exist in the dictionary.\")\n"
      ],
      "metadata": {
        "colab": {
          "base_uri": "https://localhost:8080/"
        },
        "id": "MXgePb9B2WG6",
        "outputId": "1bba8844-976b-4af5-f583-d653e355d772"
      },
      "execution_count": null,
      "outputs": [
        {
          "output_type": "stream",
          "name": "stdout",
          "text": [
            "Error: The key 'country' does not exist in the dictionary.\n"
          ]
        }
      ]
    },
    {
      "cell_type": "code",
      "source": [
        "#Q12.  F Write a program that demonstrates using multiple except blocks to handle different types of exceptions\n",
        "\n",
        "\n",
        "try:\n",
        "    # User input for two numbers\n",
        "    num1 = int(input(\"Enter the first number: \"))  # Could raise ValueError\n",
        "    num2 = int(input(\"Enter the second number: \"))  # Could raise ValueError\n",
        "\n",
        "    # Division operation\n",
        "    result = num1 / num2  # Could raise ZeroDivisionError\n",
        "\n",
        "    # Dictionary access\n",
        "    data = {\"name\": \"Alice\", \"age\": 25}\n",
        "    key = input(\"Enter a dictionary key to access: \")  # Could raise KeyError\n",
        "    value = data[key]\n",
        "\n",
        "    print(f\"Result of division: {result}\")\n",
        "    print(f\"Dictionary value: {value}\")\n",
        "\n",
        "except ValueError:\n",
        "    print(\"Error: Invalid input! Please enter a valid integer.\")\n",
        "except ZeroDivisionError:\n",
        "    print(\"Error: Division by zero is not allowed.\")\n",
        "except KeyError:\n",
        "    print(\"Error: The entered key does not exist in the dictionary.\")\n",
        "except Exception as e:\n",
        "    print(f\"An unexpected error occurred: {e}\")  # Generic exception handler\n",
        "\n"
      ],
      "metadata": {
        "colab": {
          "base_uri": "https://localhost:8080/"
        },
        "id": "Eb1PolOA2jXC",
        "outputId": "bc23d401-cfeb-4ac2-8d5c-7eb38ac62659"
      },
      "execution_count": null,
      "outputs": [
        {
          "output_type": "stream",
          "name": "stdout",
          "text": [
            "Enter the first number: 78\n",
            "Enter the second number: 78\n",
            "Enter a dictionary key to access: /\n",
            "Error: The entered key does not exist in the dictionary.\n"
          ]
        }
      ]
    },
    {
      "cell_type": "code",
      "source": [
        "\n",
        "#Q13.   How would you check if a file exists before attempting to read it in Python?\n",
        "import os\n",
        "\n",
        "file_path = 'your_file.txt'\n",
        "\n",
        "if os.path.exists(file_path):\n",
        "    with open(file_path, 'r') as file:\n",
        "        content = file.read()\n",
        "        print(content)\n",
        "else:\n",
        "    print(f\"The file {file_path} does not exist.\")\n",
        "\n",
        "\n"
      ],
      "metadata": {
        "id": "DkhpU46k2sgf",
        "colab": {
          "base_uri": "https://localhost:8080/"
        },
        "outputId": "8cc01c8d-91ae-47a1-88d5-a639fecc7fce"
      },
      "execution_count": 1,
      "outputs": [
        {
          "output_type": "stream",
          "name": "stdout",
          "text": [
            "The file your_file.txt does not exist.\n"
          ]
        }
      ]
    },
    {
      "cell_type": "code",
      "source": [
        "#Q14.  Write a program that uses the logging module to log both informational and error messages?\n",
        "\n",
        "import logging\n",
        "\n",
        "# Set up logging configuration\n",
        "logging.basicConfig(level=logging.DEBUG,  # Set the default log level\n",
        "                    format='%(asctime)s - %(levelname)s - %(message)s',\n",
        "                    handlers=[\n",
        "                        logging.FileHandler('app.log'),  # Log to a file\n",
        "                        logging.StreamHandler()  # Log to the console\n",
        "                    ])\n",
        "\n",
        "# Log an informational message\n",
        "logging.info(\"This is an informational message.\")\n",
        "\n",
        "try:\n",
        "    # Simulate some operation that may raise an error\n",
        "    x = 10 / 0  # This will raise a ZeroDivisionError\n",
        "except ZeroDivisionError as e:\n",
        "    # Log an error message\n",
        "    logging.error(f\"An error occurred: {e}\")\n",
        "\n",
        "\n",
        "\n"
      ],
      "metadata": {
        "id": "XRYaXdZCfwGO",
        "colab": {
          "base_uri": "https://localhost:8080/"
        },
        "outputId": "26c4d63f-3b54-4b08-d976-5254a544a532"
      },
      "execution_count": 2,
      "outputs": [
        {
          "output_type": "stream",
          "name": "stderr",
          "text": [
            "ERROR:root:An error occurred: division by zero\n"
          ]
        }
      ]
    },
    {
      "cell_type": "code",
      "source": [
        "#Q15.   Write a Python program that prints the content of a file and handles the case when the file is empty\n",
        "\n",
        "\n",
        "def print_file_content(file_path):\n",
        "    try:\n",
        "        with open(file_path, 'r') as file:\n",
        "            content = file.read()\n",
        "\n",
        "            if not content:  # Check if the file is empty\n",
        "                print(\"The file is empty.\")\n",
        "            else:\n",
        "                print(\"File content:\")\n",
        "                print(content)\n",
        "\n",
        "    except FileNotFoundError:\n",
        "        print(f\"The file at {file_path} does not exist.\")\n",
        "    except Exception as e:\n",
        "        print(f\"An error occurred: {e}\")\n",
        "\n",
        "# Example usage\n",
        "file_path = 'your_file.txt'  # Replace with the path to your file\n",
        "print_file_content(file_path)\n"
      ],
      "metadata": {
        "colab": {
          "base_uri": "https://localhost:8080/"
        },
        "id": "ehR8CdXo5osI",
        "outputId": "d683f7f9-a24a-43e1-9ce8-01242374da94"
      },
      "execution_count": 3,
      "outputs": [
        {
          "output_type": "stream",
          "name": "stdout",
          "text": [
            "The file at your_file.txt does not exist.\n"
          ]
        }
      ]
    },
    {
      "cell_type": "code",
      "source": [
        "#Q16.  Demonstrate how to use memory profiling to check the memory usage of a small program?\n",
        "\n",
        "\n",
        "from memory_profiler import profile\n",
        "\n",
        "@profile\n",
        "def my_function():\n",
        "    # Allocate a list of numbers (some memory usage)\n",
        "    my_list = [i for i in range(10000)]  # This will use memory\n",
        "    my_str = \"Hello, Memory Profiler!\"  # Some string allocation\n",
        "    print(f\"Length of the list: {len(my_list)}\")\n",
        "    return my_list, my_str\n",
        "\n",
        "if __name__ == \"__main__\":\n",
        "    my_function()\n"
      ],
      "metadata": {
        "colab": {
          "base_uri": "https://localhost:8080/"
        },
        "id": "T3M_Gxuo53ZB",
        "outputId": "1382e906-57c8-4897-fb95-51b9f5086474"
      },
      "execution_count": 6,
      "outputs": [
        {
          "output_type": "stream",
          "name": "stdout",
          "text": [
            "Length of the list: 10000\n"
          ]
        }
      ]
    },
    {
      "cell_type": "code",
      "source": [
        "#Q17.  Write a Python program to create and write a list of numbers to a file, one number per line?\n",
        "\n",
        "def write_numbers_to_file(file_path, numbers):\n",
        "    try:\n",
        "        with open(file_path, 'w') as file:  # Open the file in write mode\n",
        "            for number in numbers:\n",
        "                file.write(f\"{number}\\n\")  # Write each number followed by a newline\n",
        "        print(f\"Numbers have been written to {file_path}\")\n",
        "    except Exception as e:\n",
        "        print(f\"An error occurred: {e}\")\n",
        "\n",
        "# Example usage\n",
        "numbers = [1, 2, 3, 4, 5, 6, 7, 8, 9, 10]  # List of numbers\n",
        "file_path = 'numbers.txt'  # Path to the file where the numbers will be written\n",
        "write_numbers_to_file(file_path, numbers)\n"
      ],
      "metadata": {
        "colab": {
          "base_uri": "https://localhost:8080/"
        },
        "id": "nRtqWalr6Ee-",
        "outputId": "0091354d-b507-460c-e629-c8fb499b4ec3"
      },
      "execution_count": 7,
      "outputs": [
        {
          "output_type": "stream",
          "name": "stdout",
          "text": [
            "Numbers have been written to numbers.txt\n"
          ]
        }
      ]
    },
    {
      "cell_type": "code",
      "source": [
        "#Q18.   How would you implement a basic logging setup that logs to a file with rotation after 1MB?\n",
        "\n",
        "\n",
        "import logging\n",
        "from logging.handlers import RotatingFileHandler\n",
        "\n",
        "# Define the log file and its maximum size\n",
        "log_file = \"app.log\"\n",
        "max_log_size = 1 * 1024 * 1024  # 1MB in bytes\n",
        "backup_count = 3  # Number of backup log files to keep\n",
        "\n",
        "# Create a logger\n",
        "logger = logging.getLogger()\n",
        "logger.setLevel(logging.DEBUG)  # Set the logging level (DEBUG, INFO, etc.)\n",
        "\n",
        "# Create a rotating file handler\n",
        "handler = RotatingFileHandler(log_file, maxBytes=max_log_size, backupCount=backup_count)\n",
        "\n",
        "# Create a log format\n",
        "formatter = logging.Formatter('%(asctime)s - %(name)s - %(levelname)s - %(message)s')\n",
        "handler.setFormatter(formatter)\n",
        "\n",
        "# Add the handler to the logger\n",
        "logger.addHandler(handler)\n",
        "\n",
        "# Sample log messages for testing\n",
        "logger.debug(\"This is a debug message\")\n",
        "logger.info(\"This is an info message\")\n",
        "logger.warning(\"This is a warning message\")\n",
        "logger.error(\"This is an error message\")\n",
        "logger.critical(\"This is a critical message\")\n"
      ],
      "metadata": {
        "colab": {
          "base_uri": "https://localhost:8080/"
        },
        "id": "mkIAxKYk6gDs",
        "outputId": "dba79702-8d4e-4494-a4ca-ee489b5b3d28"
      },
      "execution_count": 8,
      "outputs": [
        {
          "output_type": "stream",
          "name": "stderr",
          "text": [
            "DEBUG:root:This is a debug message\n",
            "INFO:root:This is an info message\n",
            "WARNING:root:This is a warning message\n",
            "ERROR:root:This is an error message\n",
            "CRITICAL:root:This is a critical message\n"
          ]
        }
      ]
    },
    {
      "cell_type": "code",
      "source": [
        "#Q19.  Write a program that handles both IndexError and KeyError using a try-except block?\n",
        "\n",
        "def handle_errors():\n",
        "    try:\n",
        "        # Example 1: IndexError (Trying to access an invalid index in a list)\n",
        "        my_list = [1, 2, 3]\n",
        "        print(my_list[5])  # This will raise an IndexError\n",
        "\n",
        "        # Example 2: KeyError (Trying to access a nonexistent key in a dictionary)\n",
        "        my_dict = {'a': 1, 'b': 2}\n",
        "        print(my_dict['c'])  # This will raise a KeyError\n",
        "\n",
        "    except IndexError as e:\n",
        "        print(f\"IndexError occurred: {e}\")\n",
        "\n",
        "    except KeyError as e:\n",
        "        print(f\"KeyError occurred: {e}\")\n",
        "\n",
        "# Calling the function\n",
        "handle_errors()\n"
      ],
      "metadata": {
        "colab": {
          "base_uri": "https://localhost:8080/"
        },
        "id": "PLarUcyB6wKu",
        "outputId": "d3c96c48-2333-416e-e48f-0ab848275689"
      },
      "execution_count": 9,
      "outputs": [
        {
          "output_type": "stream",
          "name": "stdout",
          "text": [
            "IndexError occurred: list index out of range\n"
          ]
        }
      ]
    },
    {
      "cell_type": "code",
      "source": [
        "#Q20.  How would you open a file and read its contents using a context manager in Python?\n",
        "\n",
        "# Open and read a file using a context manager\n",
        "file_path = 'example.txt'  # Replace with your file path\n",
        "\n",
        "with open(file_path, 'r') as file:\n",
        "    content = file.read()  # Reads the entire content of the file\n",
        "\n",
        "print(content)\n"
      ],
      "metadata": {
        "colab": {
          "base_uri": "https://localhost:8080/",
          "height": 211
        },
        "collapsed": true,
        "id": "tce2ZJW-7Fq3",
        "outputId": "56cc2dad-93e2-4cb1-f8e7-1791c2f549a8"
      },
      "execution_count": 12,
      "outputs": [
        {
          "output_type": "error",
          "ename": "FileNotFoundError",
          "evalue": "[Errno 2] No such file or directory: 'example.txt'",
          "traceback": [
            "\u001b[0;31m---------------------------------------------------------------------------\u001b[0m",
            "\u001b[0;31mFileNotFoundError\u001b[0m                         Traceback (most recent call last)",
            "\u001b[0;32m<ipython-input-12-05d380de925d>\u001b[0m in \u001b[0;36m<cell line: 0>\u001b[0;34m()\u001b[0m\n\u001b[1;32m      4\u001b[0m \u001b[0mfile_path\u001b[0m \u001b[0;34m=\u001b[0m \u001b[0;34m'example.txt'\u001b[0m  \u001b[0;31m# Replace with your file path\u001b[0m\u001b[0;34m\u001b[0m\u001b[0;34m\u001b[0m\u001b[0m\n\u001b[1;32m      5\u001b[0m \u001b[0;34m\u001b[0m\u001b[0m\n\u001b[0;32m----> 6\u001b[0;31m \u001b[0;32mwith\u001b[0m \u001b[0mopen\u001b[0m\u001b[0;34m(\u001b[0m\u001b[0mfile_path\u001b[0m\u001b[0;34m,\u001b[0m \u001b[0;34m'r'\u001b[0m\u001b[0;34m)\u001b[0m \u001b[0;32mas\u001b[0m \u001b[0mfile\u001b[0m\u001b[0;34m:\u001b[0m\u001b[0;34m\u001b[0m\u001b[0;34m\u001b[0m\u001b[0m\n\u001b[0m\u001b[1;32m      7\u001b[0m     \u001b[0mcontent\u001b[0m \u001b[0;34m=\u001b[0m \u001b[0mfile\u001b[0m\u001b[0;34m.\u001b[0m\u001b[0mread\u001b[0m\u001b[0;34m(\u001b[0m\u001b[0;34m)\u001b[0m  \u001b[0;31m# Reads the entire content of the file\u001b[0m\u001b[0;34m\u001b[0m\u001b[0;34m\u001b[0m\u001b[0m\n\u001b[1;32m      8\u001b[0m \u001b[0;34m\u001b[0m\u001b[0m\n",
            "\u001b[0;31mFileNotFoundError\u001b[0m: [Errno 2] No such file or directory: 'example.txt'"
          ]
        }
      ]
    },
    {
      "cell_type": "code",
      "source": [
        "#Q21.  Write a Python program that reads a file and prints the number of occurrences of a specific word?\n",
        "\n",
        "def count_word_occurrences(file_path, word_to_count):\n",
        "    try:\n",
        "        with open(file_path, 'r') as file:\n",
        "            # Read the file content\n",
        "            content = file.read()\n",
        "\n",
        "            # Count occurrences of the word\n",
        "            word_count = content.lower().split().count(word_to_count.lower())\n",
        "\n",
        "        print(f\"The word '{word_to_count}' appears {word_count} times.\")\n",
        "\n",
        "    except FileNotFoundError:\n",
        "        print(f\"The file at {file_path} was not found.\")\n",
        "\n",
        "# Usage example\n",
        "file_path = 'example.txt'  # Replace with your file path\n",
        "word_to_count = 'python'    # Replace with the word you want to count\n",
        "\n",
        "count_word_occurrences(file_path, word_to_count)\n"
      ],
      "metadata": {
        "colab": {
          "base_uri": "https://localhost:8080/"
        },
        "id": "psUn4FOC7PzG",
        "outputId": "ee900209-d146-442b-801a-38822498f6cf"
      },
      "execution_count": 14,
      "outputs": [
        {
          "output_type": "stream",
          "name": "stdout",
          "text": [
            "The file at example.txt was not found.\n"
          ]
        }
      ]
    },
    {
      "cell_type": "code",
      "source": [
        "#Q22.  How can you check if a file is empty before attempting to read its contents?\n",
        "\n",
        "import os\n",
        "\n",
        "def is_file_empty(file_path):\n",
        "    # Check if the file exists and its size\n",
        "    return os.path.exists(file_path) and os.path.getsize(file_path) == 0\n",
        "\n",
        "def read_file(file_path):\n",
        "    if is_file_empty(file_path):\n",
        "        print(\"The file is empty.\")\n",
        "        return\n",
        "\n",
        "    # Proceed to read the file if it's not empty\n",
        "    try:\n",
        "        with open(file_path, 'r') as file:\n",
        "            content = file.read()\n",
        "            print(content)\n",
        "\n",
        "    except FileNotFoundError:\n",
        "        print(f\"The file at {file_path} was not found.\")\n",
        "\n",
        "# Usage example\n",
        "file_path = 'example.txt'  # Replace with your file path\n",
        "read_file(file_path)\n"
      ],
      "metadata": {
        "colab": {
          "base_uri": "https://localhost:8080/"
        },
        "id": "fv9M3vCt7g5b",
        "outputId": "e104f546-ac47-4287-fda8-a1ea89b04567"
      },
      "execution_count": 15,
      "outputs": [
        {
          "output_type": "stream",
          "name": "stdout",
          "text": [
            "The file at example.txt was not found.\n"
          ]
        }
      ]
    },
    {
      "cell_type": "code",
      "source": [
        "#Q23.  Write a Python program that writes to a log file when an error occurs during file handling\n",
        "\n",
        "\n",
        "import os\n",
        "import logging\n",
        "\n",
        "# Set up logging configuration\n",
        "logging.basicConfig(filename='file_errors.log',\n",
        "                    level=logging.ERROR,\n",
        "                    format='%(asctime)s - %(levelname)s - %(message)s')\n",
        "\n",
        "def write_to_file(file_path, content):\n",
        "    try:\n",
        "        # Attempt to open the file in write mode and write content\n",
        "        with open(file_path, 'w') as file:\n",
        "            file.write(content)\n",
        "        print(f\"Content written to {file_path}\")\n",
        "\n",
        "    except Exception as e:\n",
        "        # Log the error to the log file\n",
        "        logging.error(f\"Error writing to file {file_path}: {e}\")\n",
        "        print(f\"An error occurred. Please check the log file for details.\")\n",
        "\n",
        "def read_from_file(file_path):\n",
        "    try:\n",
        "        # Attempt to read the content from the file\n",
        "        with open(file_path, 'r') as file:\n",
        "            content = file.read()\n",
        "        return content\n",
        "\n",
        "    except Exception as e:\n",
        "        # Log the error to the log file\n",
        "        logging.error(f\"Error reading from file {file_path}: {e}\")\n",
        "        print(f\"An error occurred. Please check the log file for details.\")\n",
        "        return None\n",
        "\n",
        "# Usage example\n",
        "file_path = 'example.txt'  # Replace with the path of your file\n",
        "content_to_write = \"This is a test content.\"\n",
        "\n",
        "# Write to the file\n",
        "write_to_file(file_path, content_to_write)\n",
        "\n",
        "# Read from the file\n",
        "file_content = read_from_file(file_path)\n",
        "if file_content:\n",
        "    print(\"File content:\", file_content)\n"
      ],
      "metadata": {
        "colab": {
          "base_uri": "https://localhost:8080/"
        },
        "id": "_6x0yZxl8WM-",
        "outputId": "60e3129f-9cf7-40ea-e918-40a0186a023f"
      },
      "execution_count": 16,
      "outputs": [
        {
          "output_type": "stream",
          "name": "stdout",
          "text": [
            "Content written to example.txt\n",
            "File content: This is a test content.\n"
          ]
        }
      ]
    },
    {
      "cell_type": "code",
      "source": [],
      "metadata": {
        "id": "x4plJzn78gDh"
      },
      "execution_count": null,
      "outputs": []
    }
  ]
}